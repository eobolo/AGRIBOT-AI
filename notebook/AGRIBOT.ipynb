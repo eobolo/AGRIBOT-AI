{
  "metadata": {
    "kernelspec": {
      "display_name": "Python 3",
      "name": "python3"
    },
    "language_info": {
      "name": "python",
      "version": "3.11.11",
      "mimetype": "text/x-python",
      "codemirror_mode": {
        "name": "ipython",
        "version": 3
      },
      "pygments_lexer": "ipython3",
      "nbconvert_exporter": "python",
      "file_extension": ".py"
    },
    "kaggle": {
      "accelerator": "gpu",
      "dataSources": [],
      "dockerImageVersionId": 31041,
      "isInternetEnabled": true,
      "language": "python",
      "sourceType": "notebook",
      "isGpuEnabled": true
    },
    "colab": {
      "provenance": []
    }
  },
  "nbformat_minor": 0,
  "nbformat": 4,
  "cells": [
    {
      "cell_type": "markdown",
      "source": [
        "# Install Dependencies"
      ],
      "metadata": {
        "id": "jazQdMkojDLD"
      }
    },
    {
      "cell_type": "markdown",
      "source": [
        "My Idea is to build a **Agriculture domain specific** **Chatbot** but my architecture is to fine-tune a **transformer** model.So the first things to do is to install **transformers** for **T5** model which I would be using as a starting point, **datasets** for data, **evaluate** for metrics, and **streamlit** for UI. It also checks GPU availability, which is crucial for efficient training on Kaggle’s T4 GPU."
      ],
      "metadata": {
        "id": "9gLXNxoeK3QU"
      }
    },
    {
      "cell_type": "code",
      "source": [
        "# Install and update required libraries\n",
        "!pip install --upgrade tensorflow transformers datasets evaluate streamlit\n",
        "!pip install rouge_score\n",
        "!nvidia-smi"
      ],
      "metadata": {
        "trusted": true,
        "execution": {
          "iopub.status.busy": "2025-06-11T22:42:34.822051Z",
          "iopub.execute_input": "2025-06-11T22:42:34.822461Z",
          "iopub.status.idle": "2025-06-11T22:43:55.572638Z",
          "shell.execute_reply.started": "2025-06-11T22:42:34.822433Z",
          "shell.execute_reply": "2025-06-11T22:43:55.571936Z"
        },
        "colab": {
          "base_uri": "https://localhost:8080/"
        },
        "collapsed": true,
        "id": "bpqj4wmWK3QV",
        "outputId": "f0fc61a8-405d-4ab2-9bd4-c404ce0d1d58"
      },
      "outputs": [
        {
          "output_type": "stream",
          "name": "stdout",
          "text": [
            "Requirement already satisfied: tensorflow in /usr/local/lib/python3.11/dist-packages (2.19.0)\n",
            "Requirement already satisfied: transformers in /usr/local/lib/python3.11/dist-packages (4.52.4)\n",
            "Requirement already satisfied: datasets in /usr/local/lib/python3.11/dist-packages (3.6.0)\n",
            "Requirement already satisfied: evaluate in /usr/local/lib/python3.11/dist-packages (0.4.3)\n",
            "Requirement already satisfied: streamlit in /usr/local/lib/python3.11/dist-packages (1.45.1)\n",
            "Requirement already satisfied: absl-py>=1.0.0 in /usr/local/lib/python3.11/dist-packages (from tensorflow) (1.4.0)\n",
            "Requirement already satisfied: astunparse>=1.6.0 in /usr/local/lib/python3.11/dist-packages (from tensorflow) (1.6.3)\n",
            "Requirement already satisfied: flatbuffers>=24.3.25 in /usr/local/lib/python3.11/dist-packages (from tensorflow) (25.2.10)\n",
            "Requirement already satisfied: gast!=0.5.0,!=0.5.1,!=0.5.2,>=0.2.1 in /usr/local/lib/python3.11/dist-packages (from tensorflow) (0.6.0)\n",
            "Requirement already satisfied: google-pasta>=0.1.1 in /usr/local/lib/python3.11/dist-packages (from tensorflow) (0.2.0)\n",
            "Requirement already satisfied: libclang>=13.0.0 in /usr/local/lib/python3.11/dist-packages (from tensorflow) (18.1.1)\n",
            "Requirement already satisfied: opt-einsum>=2.3.2 in /usr/local/lib/python3.11/dist-packages (from tensorflow) (3.4.0)\n",
            "Requirement already satisfied: packaging in /usr/local/lib/python3.11/dist-packages (from tensorflow) (24.2)\n",
            "Requirement already satisfied: protobuf!=4.21.0,!=4.21.1,!=4.21.2,!=4.21.3,!=4.21.4,!=4.21.5,<6.0.0dev,>=3.20.3 in /usr/local/lib/python3.11/dist-packages (from tensorflow) (5.29.5)\n",
            "Requirement already satisfied: requests<3,>=2.21.0 in /usr/local/lib/python3.11/dist-packages (from tensorflow) (2.32.3)\n",
            "Requirement already satisfied: setuptools in /usr/local/lib/python3.11/dist-packages (from tensorflow) (75.2.0)\n",
            "Requirement already satisfied: six>=1.12.0 in /usr/local/lib/python3.11/dist-packages (from tensorflow) (1.17.0)\n",
            "Requirement already satisfied: termcolor>=1.1.0 in /usr/local/lib/python3.11/dist-packages (from tensorflow) (3.1.0)\n",
            "Requirement already satisfied: typing-extensions>=3.6.6 in /usr/local/lib/python3.11/dist-packages (from tensorflow) (4.14.0)\n",
            "Requirement already satisfied: wrapt>=1.11.0 in /usr/local/lib/python3.11/dist-packages (from tensorflow) (1.17.2)\n",
            "Requirement already satisfied: grpcio<2.0,>=1.24.3 in /usr/local/lib/python3.11/dist-packages (from tensorflow) (1.72.1)\n",
            "Requirement already satisfied: tensorboard~=2.19.0 in /usr/local/lib/python3.11/dist-packages (from tensorflow) (2.19.0)\n",
            "Requirement already satisfied: keras>=3.5.0 in /usr/local/lib/python3.11/dist-packages (from tensorflow) (3.8.0)\n",
            "Requirement already satisfied: numpy<2.2.0,>=1.26.0 in /usr/local/lib/python3.11/dist-packages (from tensorflow) (2.0.2)\n",
            "Requirement already satisfied: h5py>=3.11.0 in /usr/local/lib/python3.11/dist-packages (from tensorflow) (3.13.0)\n",
            "Requirement already satisfied: ml-dtypes<1.0.0,>=0.5.1 in /usr/local/lib/python3.11/dist-packages (from tensorflow) (0.5.1)\n",
            "Requirement already satisfied: tensorflow-io-gcs-filesystem>=0.23.1 in /usr/local/lib/python3.11/dist-packages (from tensorflow) (0.37.1)\n",
            "Requirement already satisfied: filelock in /usr/local/lib/python3.11/dist-packages (from transformers) (3.18.0)\n",
            "Requirement already satisfied: huggingface-hub<1.0,>=0.30.0 in /usr/local/lib/python3.11/dist-packages (from transformers) (0.32.4)\n",
            "Requirement already satisfied: pyyaml>=5.1 in /usr/local/lib/python3.11/dist-packages (from transformers) (6.0.2)\n",
            "Requirement already satisfied: regex!=2019.12.17 in /usr/local/lib/python3.11/dist-packages (from transformers) (2024.11.6)\n",
            "Requirement already satisfied: tokenizers<0.22,>=0.21 in /usr/local/lib/python3.11/dist-packages (from transformers) (0.21.1)\n",
            "Requirement already satisfied: safetensors>=0.4.3 in /usr/local/lib/python3.11/dist-packages (from transformers) (0.5.3)\n",
            "Requirement already satisfied: tqdm>=4.27 in /usr/local/lib/python3.11/dist-packages (from transformers) (4.67.1)\n",
            "Requirement already satisfied: pyarrow>=15.0.0 in /usr/local/lib/python3.11/dist-packages (from datasets) (18.1.0)\n",
            "Requirement already satisfied: dill<0.3.9,>=0.3.0 in /usr/local/lib/python3.11/dist-packages (from datasets) (0.3.7)\n",
            "Requirement already satisfied: pandas in /usr/local/lib/python3.11/dist-packages (from datasets) (2.2.2)\n",
            "Requirement already satisfied: xxhash in /usr/local/lib/python3.11/dist-packages (from datasets) (3.5.0)\n",
            "Requirement already satisfied: multiprocess<0.70.17 in /usr/local/lib/python3.11/dist-packages (from datasets) (0.70.15)\n",
            "Requirement already satisfied: fsspec<=2025.3.0,>=2023.1.0 in /usr/local/lib/python3.11/dist-packages (from fsspec[http]<=2025.3.0,>=2023.1.0->datasets) (2025.3.0)\n",
            "Requirement already satisfied: altair<6,>=4.0 in /usr/local/lib/python3.11/dist-packages (from streamlit) (5.5.0)\n",
            "Requirement already satisfied: blinker<2,>=1.5.0 in /usr/local/lib/python3.11/dist-packages (from streamlit) (1.9.0)\n",
            "Requirement already satisfied: cachetools<6,>=4.0 in /usr/local/lib/python3.11/dist-packages (from streamlit) (5.5.2)\n",
            "Requirement already satisfied: click<9,>=7.0 in /usr/local/lib/python3.11/dist-packages (from streamlit) (8.2.1)\n",
            "Requirement already satisfied: pillow<12,>=7.1.0 in /usr/local/lib/python3.11/dist-packages (from streamlit) (11.2.1)\n",
            "Requirement already satisfied: tenacity<10,>=8.1.0 in /usr/local/lib/python3.11/dist-packages (from streamlit) (9.1.2)\n",
            "Requirement already satisfied: toml<2,>=0.10.1 in /usr/local/lib/python3.11/dist-packages (from streamlit) (0.10.2)\n",
            "Requirement already satisfied: watchdog<7,>=2.1.5 in /usr/local/lib/python3.11/dist-packages (from streamlit) (6.0.0)\n",
            "Requirement already satisfied: gitpython!=3.1.19,<4,>=3.0.7 in /usr/local/lib/python3.11/dist-packages (from streamlit) (3.1.44)\n",
            "Requirement already satisfied: pydeck<1,>=0.8.0b4 in /usr/local/lib/python3.11/dist-packages (from streamlit) (0.9.1)\n",
            "Requirement already satisfied: tornado<7,>=6.0.3 in /usr/local/lib/python3.11/dist-packages (from streamlit) (6.4.2)\n",
            "Requirement already satisfied: jinja2 in /usr/local/lib/python3.11/dist-packages (from altair<6,>=4.0->streamlit) (3.1.6)\n",
            "Requirement already satisfied: jsonschema>=3.0 in /usr/local/lib/python3.11/dist-packages (from altair<6,>=4.0->streamlit) (4.24.0)\n",
            "Requirement already satisfied: narwhals>=1.14.2 in /usr/local/lib/python3.11/dist-packages (from altair<6,>=4.0->streamlit) (1.41.0)\n",
            "Requirement already satisfied: wheel<1.0,>=0.23.0 in /usr/local/lib/python3.11/dist-packages (from astunparse>=1.6.0->tensorflow) (0.45.1)\n",
            "Requirement already satisfied: aiohttp!=4.0.0a0,!=4.0.0a1 in /usr/local/lib/python3.11/dist-packages (from fsspec[http]<=2025.3.0,>=2023.1.0->datasets) (3.11.15)\n",
            "Requirement already satisfied: gitdb<5,>=4.0.1 in /usr/local/lib/python3.11/dist-packages (from gitpython!=3.1.19,<4,>=3.0.7->streamlit) (4.0.12)\n",
            "Requirement already satisfied: hf-xet<2.0.0,>=1.1.2 in /usr/local/lib/python3.11/dist-packages (from huggingface-hub<1.0,>=0.30.0->transformers) (1.1.2)\n",
            "Requirement already satisfied: rich in /usr/local/lib/python3.11/dist-packages (from keras>=3.5.0->tensorflow) (13.9.4)\n",
            "Requirement already satisfied: namex in /usr/local/lib/python3.11/dist-packages (from keras>=3.5.0->tensorflow) (0.1.0)\n",
            "Requirement already satisfied: optree in /usr/local/lib/python3.11/dist-packages (from keras>=3.5.0->tensorflow) (0.16.0)\n",
            "Requirement already satisfied: python-dateutil>=2.8.2 in /usr/local/lib/python3.11/dist-packages (from pandas->datasets) (2.9.0.post0)\n",
            "Requirement already satisfied: pytz>=2020.1 in /usr/local/lib/python3.11/dist-packages (from pandas->datasets) (2025.2)\n",
            "Requirement already satisfied: tzdata>=2022.7 in /usr/local/lib/python3.11/dist-packages (from pandas->datasets) (2025.2)\n",
            "Requirement already satisfied: charset-normalizer<4,>=2 in /usr/local/lib/python3.11/dist-packages (from requests<3,>=2.21.0->tensorflow) (3.4.2)\n",
            "Requirement already satisfied: idna<4,>=2.5 in /usr/local/lib/python3.11/dist-packages (from requests<3,>=2.21.0->tensorflow) (3.10)\n",
            "Requirement already satisfied: urllib3<3,>=1.21.1 in /usr/local/lib/python3.11/dist-packages (from requests<3,>=2.21.0->tensorflow) (2.4.0)\n",
            "Requirement already satisfied: certifi>=2017.4.17 in /usr/local/lib/python3.11/dist-packages (from requests<3,>=2.21.0->tensorflow) (2025.4.26)\n",
            "Requirement already satisfied: markdown>=2.6.8 in /usr/local/lib/python3.11/dist-packages (from tensorboard~=2.19.0->tensorflow) (3.8)\n",
            "Requirement already satisfied: tensorboard-data-server<0.8.0,>=0.7.0 in /usr/local/lib/python3.11/dist-packages (from tensorboard~=2.19.0->tensorflow) (0.7.2)\n",
            "Requirement already satisfied: werkzeug>=1.0.1 in /usr/local/lib/python3.11/dist-packages (from tensorboard~=2.19.0->tensorflow) (3.1.3)\n",
            "Requirement already satisfied: aiohappyeyeballs>=2.3.0 in /usr/local/lib/python3.11/dist-packages (from aiohttp!=4.0.0a0,!=4.0.0a1->fsspec[http]<=2025.3.0,>=2023.1.0->datasets) (2.6.1)\n",
            "Requirement already satisfied: aiosignal>=1.1.2 in /usr/local/lib/python3.11/dist-packages (from aiohttp!=4.0.0a0,!=4.0.0a1->fsspec[http]<=2025.3.0,>=2023.1.0->datasets) (1.3.2)\n",
            "Requirement already satisfied: attrs>=17.3.0 in /usr/local/lib/python3.11/dist-packages (from aiohttp!=4.0.0a0,!=4.0.0a1->fsspec[http]<=2025.3.0,>=2023.1.0->datasets) (25.3.0)\n",
            "Requirement already satisfied: frozenlist>=1.1.1 in /usr/local/lib/python3.11/dist-packages (from aiohttp!=4.0.0a0,!=4.0.0a1->fsspec[http]<=2025.3.0,>=2023.1.0->datasets) (1.6.0)\n",
            "Requirement already satisfied: multidict<7.0,>=4.5 in /usr/local/lib/python3.11/dist-packages (from aiohttp!=4.0.0a0,!=4.0.0a1->fsspec[http]<=2025.3.0,>=2023.1.0->datasets) (6.4.4)\n",
            "Requirement already satisfied: propcache>=0.2.0 in /usr/local/lib/python3.11/dist-packages (from aiohttp!=4.0.0a0,!=4.0.0a1->fsspec[http]<=2025.3.0,>=2023.1.0->datasets) (0.3.1)\n",
            "Requirement already satisfied: yarl<2.0,>=1.17.0 in /usr/local/lib/python3.11/dist-packages (from aiohttp!=4.0.0a0,!=4.0.0a1->fsspec[http]<=2025.3.0,>=2023.1.0->datasets) (1.20.0)\n",
            "Requirement already satisfied: smmap<6,>=3.0.1 in /usr/local/lib/python3.11/dist-packages (from gitdb<5,>=4.0.1->gitpython!=3.1.19,<4,>=3.0.7->streamlit) (5.0.2)\n",
            "Requirement already satisfied: MarkupSafe>=2.0 in /usr/local/lib/python3.11/dist-packages (from jinja2->altair<6,>=4.0->streamlit) (3.0.2)\n",
            "Requirement already satisfied: jsonschema-specifications>=2023.03.6 in /usr/local/lib/python3.11/dist-packages (from jsonschema>=3.0->altair<6,>=4.0->streamlit) (2025.4.1)\n",
            "Requirement already satisfied: referencing>=0.28.4 in /usr/local/lib/python3.11/dist-packages (from jsonschema>=3.0->altair<6,>=4.0->streamlit) (0.36.2)\n",
            "Requirement already satisfied: rpds-py>=0.7.1 in /usr/local/lib/python3.11/dist-packages (from jsonschema>=3.0->altair<6,>=4.0->streamlit) (0.25.1)\n",
            "Requirement already satisfied: markdown-it-py>=2.2.0 in /usr/local/lib/python3.11/dist-packages (from rich->keras>=3.5.0->tensorflow) (3.0.0)\n",
            "Requirement already satisfied: pygments<3.0.0,>=2.13.0 in /usr/local/lib/python3.11/dist-packages (from rich->keras>=3.5.0->tensorflow) (2.19.1)\n",
            "Requirement already satisfied: mdurl~=0.1 in /usr/local/lib/python3.11/dist-packages (from markdown-it-py>=2.2.0->rich->keras>=3.5.0->tensorflow) (0.1.2)\n",
            "Requirement already satisfied: rouge_score in /usr/local/lib/python3.11/dist-packages (0.1.2)\n",
            "Requirement already satisfied: absl-py in /usr/local/lib/python3.11/dist-packages (from rouge_score) (1.4.0)\n",
            "Requirement already satisfied: nltk in /usr/local/lib/python3.11/dist-packages (from rouge_score) (3.9.1)\n",
            "Requirement already satisfied: numpy in /usr/local/lib/python3.11/dist-packages (from rouge_score) (2.0.2)\n",
            "Requirement already satisfied: six>=1.14.0 in /usr/local/lib/python3.11/dist-packages (from rouge_score) (1.17.0)\n",
            "Requirement already satisfied: click in /usr/local/lib/python3.11/dist-packages (from nltk->rouge_score) (8.2.1)\n",
            "Requirement already satisfied: joblib in /usr/local/lib/python3.11/dist-packages (from nltk->rouge_score) (1.5.1)\n",
            "Requirement already satisfied: regex>=2021.8.3 in /usr/local/lib/python3.11/dist-packages (from nltk->rouge_score) (2024.11.6)\n",
            "Requirement already satisfied: tqdm in /usr/local/lib/python3.11/dist-packages (from nltk->rouge_score) (4.67.1)\n",
            "Thu Jun 12 16:21:34 2025       \n",
            "+-----------------------------------------------------------------------------------------+\n",
            "| NVIDIA-SMI 550.54.15              Driver Version: 550.54.15      CUDA Version: 12.4     |\n",
            "|-----------------------------------------+------------------------+----------------------+\n",
            "| GPU  Name                 Persistence-M | Bus-Id          Disp.A | Volatile Uncorr. ECC |\n",
            "| Fan  Temp   Perf          Pwr:Usage/Cap |           Memory-Usage | GPU-Util  Compute M. |\n",
            "|                                         |                        |               MIG M. |\n",
            "|=========================================+========================+======================|\n",
            "|   0  NVIDIA L4                      Off |   00000000:00:03.0 Off |                    0 |\n",
            "| N/A   76C    P0             33W /   72W |   16615MiB /  23034MiB |      0%      Default |\n",
            "|                                         |                        |                  N/A |\n",
            "+-----------------------------------------+------------------------+----------------------+\n",
            "                                                                                         \n",
            "+-----------------------------------------------------------------------------------------+\n",
            "| Processes:                                                                              |\n",
            "|  GPU   GI   CI        PID   Type   Process name                              GPU Memory |\n",
            "|        ID   ID                                                               Usage      |\n",
            "|=========================================================================================|\n",
            "+-----------------------------------------------------------------------------------------+\n"
          ]
        }
      ],
      "execution_count": null
    },
    {
      "cell_type": "markdown",
      "source": [
        "#Import the necessaries libraries and Hardware Verification"
      ],
      "metadata": {
        "id": "t8ysyZChK3QX"
      }
    },
    {
      "cell_type": "markdown",
      "source": [
        "Import the essential libraries and verify paid GPU availability on **COLLAB PRO**, ensuring the chatbot leverages hardware acceleration for faster training and inference"
      ],
      "metadata": {
        "id": "v12yJ_OXK3QY"
      }
    },
    {
      "cell_type": "code",
      "source": [
        "import tensorflow as tf\n",
        "from transformers import TFT5ForConditionalGeneration, T5Tokenizer\n",
        "from datasets import load_dataset\n",
        "import evaluate\n",
        "import numpy as np\n",
        "import matplotlib.pyplot as plt\n",
        "\n",
        "# Enable GPU with memory growth before any TF operations\n",
        "physical_devices = tf.config.list_physical_devices('GPU')\n",
        "if len(physical_devices) > 0:\n",
        "    try:\n",
        "        tf.config.experimental.set_memory_growth(physical_devices[0], True)\n",
        "        print(\"GPU enabled with memory growth:\", physical_devices)\n",
        "    except:\n",
        "        print(\"Failed to set memory growth, falling back to CPU\")\n",
        "        tf.config.set_visible_devices([], 'GPU')\n",
        "else:\n",
        "    print(\"No GPU found, using CPU\")"
      ],
      "metadata": {
        "trusted": true,
        "execution": {
          "iopub.status.busy": "2025-06-11T22:43:55.574774Z",
          "iopub.execute_input": "2025-06-11T22:43:55.575227Z",
          "iopub.status.idle": "2025-06-11T22:44:15.251672Z",
          "shell.execute_reply.started": "2025-06-11T22:43:55.575199Z",
          "shell.execute_reply": "2025-06-11T22:44:15.251032Z"
        },
        "colab": {
          "base_uri": "https://localhost:8080/"
        },
        "id": "IKOk1BWYK3QZ",
        "outputId": "51cd4b67-07a7-4947-f483-85564fc66e6e"
      },
      "outputs": [
        {
          "output_type": "stream",
          "name": "stdout",
          "text": [
            "GPU enabled with memory growth: [PhysicalDevice(name='/physical_device:GPU:0', device_type='GPU')]\n"
          ]
        }
      ],
      "execution_count": null
    },
    {
      "cell_type": "markdown",
      "source": [
        "#Dataset Collection and Preprocessing"
      ],
      "metadata": {
        "id": "o_1jD9l0K3QY"
      }
    },
    {
      "cell_type": "markdown",
      "source": [
        "For this Agriculture domain specific chatbot we  will be using a dataset provided from hugging face, curated by **Mohammed Ashraf** in english language in **QA format** which is already highly processed and cleaned and verified to ensure it's quality and relevance of the **question-answer** pairs. [hugging face](https://huggingface.co/datasets/KisanVaani/agriculture-qa-english-only)"
      ],
      "metadata": {
        "id": "kiJE81MWK3QY"
      }
    },
    {
      "cell_type": "markdown",
      "source": [
        "##Download the dataset (Dataset Collection)"
      ],
      "metadata": {
        "id": "X__vMb_SK3QZ"
      }
    },
    {
      "cell_type": "code",
      "source": [
        "# Download the dataset\n",
        "dataset = load_dataset(\"KisanVaani/agriculture-qa-english-only\")"
      ],
      "metadata": {
        "id": "Qf3FcDZVkh2K"
      },
      "execution_count": null,
      "outputs": []
    },
    {
      "cell_type": "markdown",
      "source": [
        "##Dataset Preprocessing (Splitting)"
      ],
      "metadata": {
        "id": "wiwrnes7K3Qa"
      }
    },
    {
      "cell_type": "markdown",
      "source": [
        "The **KisanVaani/agriculture-qa-english-only** dataset on hugging face only has a train split you can see that from the previous cell or the cell where the data was loaded and printed. The dataset is a DatasetDict with a single key, **train**, containing all the data. the **dataset['train']** done in the next cell, accesses this train split, which is the datset object containing all the examples i.e. **22615**. then the method **train_test_split** provided by **Hugging face** **datasets** library different from **scikit-learn** helps split the dataset into two subsets:\n",
        "\n",
        "**1.** Training set: Used to train my **T5** model\n",
        "\n",
        "**2.** Validation set: Used to evaluate my model during training to monitor performance and detect issues like **overfitting** or **underfitting**\n",
        "\n",
        "so we get the training and validation set separately ufrom the subsets using **['train']** and **['test']** but how do we solve the case whereby examples overlap? This is solved using the **seed** parameter for **consistency** after shuffling the data that means the same exact rows for train will be picked every time the **train_test_split** method is used as long as value of the seed parameter remains constant."
      ],
      "metadata": {
        "id": "imEeim_ZK3Qa"
      }
    },
    {
      "cell_type": "code",
      "source": [
        "# Split into train (80%) and validation (20%)\n",
        "train_dataset = dataset['train'].train_test_split(test_size=0.2, seed=42)['train']\n",
        "val_dataset = dataset['train'].train_test_split(test_size=0.2, seed=42)['test']\n",
        "print(\"Train size:\", len(train_dataset), \"Validation size:\", len(val_dataset))"
      ],
      "metadata": {
        "id": "vYHKuM0Fksg2",
        "colab": {
          "base_uri": "https://localhost:8080/"
        },
        "outputId": "75b3792c-836f-4983-82f2-970a2f424ef1"
      },
      "execution_count": null,
      "outputs": [
        {
          "output_type": "stream",
          "name": "stdout",
          "text": [
            "Train size: 18092 Validation size: 4523\n"
          ]
        }
      ]
    },
    {
      "cell_type": "markdown",
      "source": [
        "##Dataset Preprocessing (cleaning and Tokenization)"
      ],
      "metadata": {
        "id": "YUl32sHvk5F9"
      }
    },
    {
      "cell_type": "markdown",
      "source": [
        "Now we have to clean the data and also tokenize them and because we are starting with the **T5** model we would be using the **T5Tokenizer**, and also start with the **t5-base** from the family of models provided by the **T5 model** e.g **t5-base**, **t5-small**, and **t5-large**, handling missing values with fallback strings, and documenting the data; details the process of adding **context: agriculture** and **padding/truncation** to 128 tokens or more during experiments."
      ],
      "metadata": {
        "id": "RtSnMDqHK3Qa"
      }
    },
    {
      "cell_type": "code",
      "source": [
        "# Initialize tokenizer\n",
        "tokenizer = T5Tokenizer.from_pretrained(\"t5-base\")\n",
        "\n",
        "# Preprocessing function\n",
        "def preprocess_data(examples):\n",
        "    questions = [str(q) if q else \"Unknown question\" for q in examples['question']]\n",
        "    answers = [str(a) if a else \"No answer available\" for a in examples['answers']]\n",
        "    inputs = [f\"question: {q} context: agriculture </s>\" for q in questions]\n",
        "    targets = answers\n",
        "    model_inputs = tokenizer(inputs, max_length=128, truncation=True, padding=\"max_length\", return_tensors=\"tf\")\n",
        "    labels = tokenizer(targets, max_length=128, truncation=True, padding=\"max_length\", return_tensors=\"tf\")\n",
        "    return {\n",
        "        \"input_ids\": model_inputs[\"input_ids\"],\n",
        "        \"attention_mask\": model_inputs[\"attention_mask\"],\n",
        "        \"labels\": labels[\"input_ids\"]\n",
        "    }\n",
        "\n",
        "# Apply preprocessing\n",
        "train_dataset = train_dataset.map(preprocess_data, batched=True)\n",
        "val_dataset = val_dataset.map(preprocess_data, batched=True)\n",
        "\n",
        "# Reconfirm GPU memory growth\n",
        "if physical_devices:\n",
        "    try:\n",
        "        tf.config.experimental.set_memory_growth(physical_devices[0], True)\n",
        "        print(\"GPU memory growth reconfirmed (T4)\")\n",
        "    except:\n",
        "        print(\"GPU memory growth reconfirm failed, falling back to CPU\")"
      ],
      "metadata": {
        "trusted": true,
        "execution": {
          "iopub.status.busy": "2025-06-11T22:44:15.252287Z",
          "iopub.execute_input": "2025-06-11T22:44:15.252845Z",
          "iopub.status.idle": "2025-06-11T22:44:25.451430Z",
          "shell.execute_reply.started": "2025-06-11T22:44:15.252823Z",
          "shell.execute_reply": "2025-06-11T22:44:25.450781Z"
        },
        "colab": {
          "base_uri": "https://localhost:8080/"
        },
        "id": "uBG6HkCSK3Qb",
        "outputId": "4e08bbeb-ed9c-4a74-ea13-8e39f102942e"
      },
      "outputs": [
        {
          "output_type": "stream",
          "name": "stdout",
          "text": [
            "GPU memory growth reconfirmed (T4)\n"
          ]
        }
      ],
      "execution_count": null
    },
    {
      "cell_type": "markdown",
      "metadata": {
        "id": "90979d38"
      },
      "source": [
        "# Word Mapping (Word Clouds)"
      ]
    },
    {
      "cell_type": "markdown",
      "metadata": {
        "id": "085a547d"
      },
      "source": [
        "## Word Cloud for Questions\n",
        "\n",
        "To visualize the most frequent terms in the training questions, we will generate a word cloud. This provides a quick overview of the key topics and concepts present in the dataset."
      ]
    },
    {
      "cell_type": "markdown",
      "metadata": {
        "id": "aa6b1544"
      },
      "source": [
        "## Word Cloud for Answers\n",
        "\n",
        "Similarly, we can generate a word cloud for the answers in the training dataset. This will highlight the common terms and phrases used in the responses provided by the chatbot."
      ]
    },
    {
      "source": [
        "from wordcloud import WordCloud\n",
        "import matplotlib.pyplot as plt\n",
        "\n",
        "# Combine all questions into a single string\n",
        "query_text = ' '.join(train_dataset['question'])\n",
        "\n",
        "# Generate the word cloud for questions\n",
        "wordcloud_questions = WordCloud(width=800, height=400, background_color='white').generate(query_text)\n",
        "\n",
        "# Display the word cloud for questions\n",
        "plt.figure(figsize=(10, 5))\n",
        "plt.imshow(wordcloud_questions, interpolation='bilinear')\n",
        "plt.axis('off')\n",
        "plt.title('Word Cloud for Questions')\n",
        "plt.show()\n",
        "\n",
        "# Combine all answers into a single string\n",
        "answer_text = ' '.join(train_dataset['answers'])\n",
        "\n",
        "# Generate the word cloud for answers\n",
        "wordcloud_answers = WordCloud(width=800, height=400, background_color='white').generate(answer_text)\n",
        "\n",
        "# Display the word cloud for answers\n",
        "plt.figure(figsize=(10, 5))\n",
        "plt.imshow(wordcloud_answers, interpolation='bilinear')\n",
        "plt.axis('off')\n",
        "plt.title('Word Cloud for Answers')\n",
        "plt.show()"
      ],
      "cell_type": "code",
      "metadata": {
        "id": "5IejTEyg9J2l"
      },
      "execution_count": null,
      "outputs": []
    },
    {
      "cell_type": "markdown",
      "source": [
        "## Model Fine Tuning (T5 Model)"
      ],
      "metadata": {
        "id": "10fEaj93K3Qa"
      }
    },
    {
      "cell_type": "markdown",
      "source": [
        "Now we are going to fine tune our transformer chosen transformer **T5 model** **t5-base** on the preprocessed dataset, using validation data to monitor the performance, plot the loss curve of the **train** and **validation**, save the pretrained model based on the **experiment** done, and also the tokenizer."
      ],
      "metadata": {
        "id": "auSlm5FlK3Qa"
      }
    },
    {
      "cell_type": "code",
      "source": [
        "# Load T5 model\n",
        "model = TFT5ForConditionalGeneration.from_pretrained(\"t5-base\")\n",
        "\n",
        "# Convert datasets to TensorFlow format\n",
        "train_tf_dataset = train_dataset.to_tf_dataset(\n",
        "    columns=[\"input_ids\", \"attention_mask\", \"labels\"],\n",
        "    shuffle=True,\n",
        "    batch_size=8,\n",
        "    collate_fn=lambda x: {\n",
        "        \"input_ids\": tf.stack([tf.convert_to_tensor(item[\"input_ids\"]) for item in x]),\n",
        "        \"attention_mask\": tf.stack([tf.convert_to_tensor(item[\"attention_mask\"]) for item in x]),\n",
        "        \"labels\": tf.stack([tf.convert_to_tensor(item[\"labels\"]) for item in x])\n",
        "    }\n",
        ")\n",
        "\n",
        "val_tf_dataset = val_dataset.to_tf_dataset(\n",
        "    columns=[\"input_ids\", \"attention_mask\", \"labels\"],\n",
        "    shuffle=False,\n",
        "    batch_size=8,\n",
        "    collate_fn=lambda x: {\n",
        "        \"input_ids\": tf.stack([tf.convert_to_tensor(item[\"input_ids\"]) for item in x]),\n",
        "        \"attention_mask\": tf.stack([tf.convert_to_tensor(item[\"attention_mask\"]) for item in x]),\n",
        "        \"labels\": tf.stack([tf.convert_to_tensor(item[\"labels\"]) for item in x])\n",
        "    }\n",
        ")\n",
        "\n",
        "# Compile model\n",
        "optimizer = tf.keras.optimizers.Nadam(learning_rate=2e-5)\n",
        "model.compile(optimizer=optimizer, loss=model.hf_compute_loss)\n",
        "\n",
        "# Train with validation\n",
        "history = model.fit(train_tf_dataset, validation_data=val_tf_dataset, epochs=21)\n",
        "\n",
        "# Saving the pretrained model and tokenizer\n",
        "model.save_pretrained(\"fine_tuned_t5_agriculture_exp2\")\n",
        "tokenizer.save_pretrained(\"fine_tuned_t5_agriculture_exp\")\n",
        "\n",
        "# Plot training history\n",
        "plt.plot(history.history['loss'], label='Training Loss')\n",
        "plt.plot(history.history['val_loss'], label='Validation Loss')\n",
        "plt.xlabel('Epoch')\n",
        "plt.ylabel('Loss')\n",
        "plt.legend()\n",
        "plt.show()"
      ],
      "metadata": {
        "trusted": true,
        "execution": {
          "iopub.status.busy": "2025-06-11T22:44:25.452328Z",
          "iopub.execute_input": "2025-06-11T22:44:25.452584Z"
        },
        "colab": {
          "base_uri": "https://localhost:8080/",
          "height": 1000
        },
        "id": "EdVlzj05K3Qb",
        "outputId": "d3dee066-fd44-445d-f3f1-6ca4a06c3098",
        "collapsed": true
      },
      "outputs": [
        {
          "output_type": "stream",
          "name": "stderr",
          "text": [
            "All PyTorch model weights were used when initializing TFT5ForConditionalGeneration.\n",
            "\n",
            "All the weights of TFT5ForConditionalGeneration were initialized from the PyTorch model.\n",
            "If your task is similar to the task the model of the checkpoint was trained on, you can already use TFT5ForConditionalGeneration for predictions without further training.\n"
          ]
        },
        {
          "output_type": "stream",
          "name": "stdout",
          "text": [
            "Epoch 1/21\n",
            "2262/2262 [==============================] - 535s 193ms/step - loss: 0.9621 - val_loss: 0.5595\n",
            "Epoch 2/21\n",
            "2262/2262 [==============================] - 429s 190ms/step - loss: 0.5617 - val_loss: 0.4196\n",
            "Epoch 3/21\n",
            "2262/2262 [==============================] - 429s 190ms/step - loss: 0.4495 - val_loss: 0.3089\n",
            "Epoch 4/21\n",
            "2262/2262 [==============================] - 429s 190ms/step - loss: 0.3639 - val_loss: 0.2324\n",
            "Epoch 5/21\n",
            "2262/2262 [==============================] - 430s 190ms/step - loss: 0.2964 - val_loss: 0.1775\n",
            "Epoch 6/21\n",
            "2262/2262 [==============================] - 430s 190ms/step - loss: 0.2450 - val_loss: 0.1410\n",
            "Epoch 7/21\n",
            "2262/2262 [==============================] - 430s 190ms/step - loss: 0.2040 - val_loss: 0.1160\n",
            "Epoch 8/21\n",
            "2262/2262 [==============================] - 430s 190ms/step - loss: 0.1720 - val_loss: 0.0999\n",
            "Epoch 9/21\n",
            "2262/2262 [==============================] - 430s 190ms/step - loss: 0.1474 - val_loss: 0.0887\n",
            "Epoch 10/21\n",
            "2262/2262 [==============================] - 430s 190ms/step - loss: 0.1269 - val_loss: 0.0811\n",
            "Epoch 11/21\n",
            "2262/2262 [==============================] - 429s 190ms/step - loss: 0.1115 - val_loss: 0.0758\n",
            "Epoch 12/21\n",
            "2262/2262 [==============================] - 430s 190ms/step - loss: 0.0987 - val_loss: 0.0717\n",
            "Epoch 13/21\n",
            "2262/2262 [==============================] - 430s 190ms/step - loss: 0.0889 - val_loss: 0.0688\n",
            "Epoch 14/21\n",
            "2262/2262 [==============================] - 430s 190ms/step - loss: 0.0808 - val_loss: 0.0668\n",
            "Epoch 15/21\n",
            "2262/2262 [==============================] - 430s 190ms/step - loss: 0.0740 - val_loss: 0.0645\n",
            "Epoch 16/21\n",
            "2262/2262 [==============================] - 430s 190ms/step - loss: 0.0685 - val_loss: 0.0626\n",
            "Epoch 17/21\n",
            "2262/2262 [==============================] - 430s 190ms/step - loss: 0.0637 - val_loss: 0.0610\n",
            "Epoch 18/21\n",
            "2262/2262 [==============================] - 430s 190ms/step - loss: 0.0592 - val_loss: 0.0592\n",
            "Epoch 19/21\n",
            "2262/2262 [==============================] - 430s 190ms/step - loss: 0.0556 - val_loss: 0.0584\n",
            "Epoch 20/21\n",
            "2262/2262 [==============================] - 429s 190ms/step - loss: 0.0520 - val_loss: 0.0570\n",
            "Epoch 21/21\n",
            "2262/2262 [==============================] - 430s 190ms/step - loss: 0.0490 - val_loss: 0.0557\n"
          ]
        },
        {
          "output_type": "display_data",
          "data": {
            "text/plain": [
              "<Figure size 640x480 with 1 Axes>"
            ],
            "image/png": "[encoded data removed]"
          },
          "metadata": {}
        }
      ],
      "execution_count": null
    },
    {
      "cell_type": "markdown",
      "source": [
        "# Evaluate Performance"
      ],
      "metadata": {
        "id": "y2nrTopGoyZh"
      }
    },
    {
      "cell_type": "markdown",
      "source": [
        "evaluates the fine-tuned model using **BLEU** and **ROUGE** metrics on a subset of validation data, ensuring performance aligns with training, appropriate for QA, with thorough analysis. Compares metrics against baseline, noting improvements from hyperparameter tuning."
      ],
      "metadata": {
        "id": "tdDrOxdIo0hx"
      }
    },
    {
      "cell_type": "code",
      "source": [
        "import evaluate\n",
        "import matplotlib.pyplot as plt\n",
        "import tensorflow as tf\n",
        "from transformers import TFT5ForConditionalGeneration, T5Tokenizer\n",
        "\n",
        "# Clear previous session to free memory\n",
        "tf.keras.backend.clear_session()\n",
        "\n",
        "# Load T5 model with GPU placement and memory optimization\n",
        "with tf.device('/GPU:0'):\n",
        "    try:\n",
        "        model = TFT5ForConditionalGeneration.from_pretrained(\"fine_tuned_t5_agriculture_exp2\", from_pt=True)  # Try loading from PyTorch if available\n",
        "    except:\n",
        "        model = TFT5ForConditionalGeneration.from_pretrained(\"fine_tuned_t5_agriculture_exp2\")  # Fallback to TF\n",
        "    tokenizer = T5Tokenizer.from_pretrained(\"fine_tuned_t5_agriculture_exp\")\n",
        "\n",
        "# Prepare batched inference dataset (matching preprocessing, batch size 8)\n",
        "def prepare_inference_dataset(questions):\n",
        "    inputs = [f\"question: {q} context: agriculture </s>\" for q in questions]  # Matches training format\n",
        "    tokenized_inputs = tokenizer(inputs, max_length=128, truncation=True, padding=\"max_length\", return_tensors=\"tf\")\n",
        "    return tf.data.Dataset.from_tensor_slices((tokenized_inputs['input_ids'], tokenized_inputs['attention_mask'])).batch(8)\n",
        "\n",
        "val_questions = val_dataset['question'][:50]\n",
        "val_answers = val_dataset['answers'][:50]  # Matches 'answers' from preprocessing\n",
        "inference_dataset = prepare_inference_dataset(val_questions)\n",
        "\n",
        "# Generate predictions\n",
        "predictions = []\n",
        "for batch_inputs, batch_masks in inference_dataset:\n",
        "    with tf.device('/GPU:0'):\n",
        "        outputs = model.generate(input_ids=batch_inputs, attention_mask=batch_masks, max_length=128, num_beams=4)\n",
        "        batch_predictions = [tokenizer.decode(out, skip_special_tokens=True) for out in outputs.numpy()]\n",
        "        predictions.extend(batch_predictions)\n",
        "\n",
        "# Evaluate\n",
        "bleu = evaluate.load(\"bleu\")\n",
        "rouge = evaluate.load(\"rouge\")\n",
        "references = [[a] for a in val_answers]\n",
        "\n",
        "bleu_score = bleu.compute(predictions=predictions, references=references)\n",
        "rouge_score = rouge.compute(predictions=predictions, references=references)\n",
        "print(\"BLEU Score:\", bleu_score)\n",
        "print(\"ROUGE Score:\", rouge_score)"
      ],
      "metadata": {
        "trusted": true,
        "colab": {
          "base_uri": "https://localhost:8080/"
        },
        "id": "fJc1_lcmK3Qb",
        "outputId": "222bf4dc-0c29-49b5-94f8-d57080b4079a"
      },
      "outputs": [
        {
          "output_type": "stream",
          "name": "stderr",
          "text": [
            "All model checkpoint layers were used when initializing TFT5ForConditionalGeneration.\n",
            "\n",
            "All the layers of TFT5ForConditionalGeneration were initialized from the model checkpoint at fine_tuned_t5_agriculture_exp2.\n",
            "If your task is similar to the task the model of the checkpoint was trained on, you can already use TFT5ForConditionalGeneration for predictions without further training.\n"
          ]
        },
        {
          "output_type": "stream",
          "name": "stdout",
          "text": [
            "BLEU Score: {'bleu': 0.640206461654628, 'precisions': [0.9295302013422819, 0.9001751313485113, 0.8925318761384335, 0.8874172185430463], 'brevity_penalty': 0.7095524886321134, 'length_ratio': 0.7445346658338539, 'translation_length': 1192, 'reference_length': 1601}\n",
            "ROUGE Score: {'rouge1': np.float64(0.9122664523546768), 'rouge2': np.float64(0.7783908085618197), 'rougeL': np.float64(0.9100890289061225), 'rougeLsum': np.float64(0.9099226287540697)}\n"
          ]
        }
      ],
      "execution_count": null
    },
    {
      "cell_type": "markdown",
      "source": [
        "# Out-of-Domain Queries and Response Generation"
      ],
      "metadata": {
        "id": "QKMAUB2lqC9x"
      }
    },
    {
      "cell_type": "markdown",
      "source": [
        "A generate_response function is defined for **interactive testing**, allowing users to input questions and get responses. It also tests an out-of-domain query to showcase robustness by punting adds depth to **performance evaluation**."
      ],
      "metadata": {
        "id": "f8On3WN-qQAd"
      }
    },
    {
      "cell_type": "code",
      "source": [
        "def generate_response(question):\n",
        "    with tf.device('/GPU:0'):\n",
        "        input_text = f\"question: {question} context: agriculture </s>\"  # Matches training format\n",
        "        inputs = tokenizer(input_text, return_tensors=\"tf\", max_length=128, truncation=True)\n",
        "        with tf.device('/GPU:0'):\n",
        "            outputs = model.generate(inputs[\"input_ids\"], max_length=128, num_beams=4)\n",
        "        return tokenizer.decode(outputs[0], skip_special_tokens=True)\n",
        "\n",
        "# Test with out-of-domain query\n",
        "out_of_domain_query = \"What's the weather like?\"\n",
        "response = generate_response(out_of_domain_query)\n",
        "if any(keyword in response.lower() for keyword in [\"agriculture\", \"crop\", \"soil\"]):\n",
        "    print(f\"Question: {out_of_domain_query}\\nResponse: {response}\")\n",
        "else:\n",
        "    print(\"Out-of-domain: I can only answer agriculture questions.\")"
      ],
      "metadata": {
        "trusted": true,
        "colab": {
          "base_uri": "https://localhost:8080/"
        },
        "id": "tuNBRCN8K3Qc",
        "outputId": "5db268aa-3182-4421-c7a8-e9b1d8e9e95c"
      },
      "outputs": [
        {
          "output_type": "stream",
          "name": "stdout",
          "text": [
            "Out-of-domain: I can only answer agriculture questions.\n"
          ]
        }
      ],
      "execution_count": null
    },
    {
      "cell_type": "markdown",
      "source": [
        "## Simple ChatBot Interaction."
      ],
      "metadata": {
        "id": "FV-P3qZrfFMa"
      }
    },
    {
      "cell_type": "code",
      "source": [
        "question = \"What is the best fertilizer for wheat?\"\n",
        "response = generate_response(question)\n",
        "print(f\"Question: {question}\\nResponse: {response}\")"
      ],
      "metadata": {
        "colab": {
          "base_uri": "https://localhost:8080/"
        },
        "id": "oewO8O6YfDvU",
        "outputId": "439f6058-c31f-454f-d941-c5cb2d3ffb93"
      },
      "execution_count": null,
      "outputs": [
        {
          "output_type": "stream",
          "name": "stdout",
          "text": [
            "Question: What is the best fertilizer for wheat?\n",
            "Response: Wheat requires balanced fertilization with a high ratio of nitrogen (N), phosphorus (P), and potassium (K), such as NPK (23:23:0) or compound fertilizer like CAN (calcium ammonium nitrate) that has Nitrogen and Calcium\n"
          ]
        }
      ]
    },
    {
      "cell_type": "code",
      "source": [],
      "metadata": {
        "id": "6GX7sF11ik0a"
      },
      "execution_count": null,
      "outputs": []
    }
  ]
}